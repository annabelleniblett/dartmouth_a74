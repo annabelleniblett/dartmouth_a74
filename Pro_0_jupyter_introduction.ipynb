{
 "cells": [
  {
   "cell_type": "markdown",
   "metadata": {},
   "source": [
    "# Project 0 -- A first jupyter notebook\n",
    "\n",
    "`jupyter` notebooks allow you to interleave text, code, and results into one document. The origin of the name is Jupiter + python, with the inspiration coming from Galileo's notebooks showing the movement of the Galilean satellites of Jupiter. \n",
    "\n",
    "Each of these gray boxes is a cell. Cells can be *text* (like this one) or *code* (like the next one). This cell is a Markdown cell, which you'll see denoted along the top toolbar. You can set the type of each cell. Double click on this cell, and you can see how I formatted this text. Hold down <kbd>shift</kbd>+<kbd>enter</kbd> to run this cell and return it to the formatted text.\n",
    "\n",
    "After you complete the notebook, to turn it in: 1) Kernel > Restart and run all (this will evaluate all cells in order, making sure you haven't written over any important definitions). 2) Make sure the Inputs are labeled consecutively starting from 1, and that your outputs still look right. 3) File > Download as > PDF via Latex.\n",
    "\n",
    "Code cells have to be run in order to run the code contained within them. Click on the next cell and hold down <kbd>shift</kbd>+<kbd>enter</kbd> to run the cell."
   ]
  },
  {
   "cell_type": "code",
   "execution_count": null,
   "metadata": {},
   "outputs": [],
   "source": [
    "# gain access to plotting tools \n",
    "import matplotlib.pyplot as plt \n",
    "# make plots show up in the notebook\n",
    "%matplotlib inline\n",
    "# set up bigger default plots\n",
    "plt.matplotlib.rcParams['figure.figsize'] = (10,7)\n",
    "plt.matplotlib.rcParams['font.size'] = 12"
   ]
  },
  {
   "cell_type": "markdown",
   "metadata": {},
   "source": [
    "### Q1: Imports\n",
    "\n",
    "Add import statements for `numpy` (use `np` as the nickname for `numpy`) and `astropy`."
   ]
  },
  {
   "cell_type": "code",
   "execution_count": null,
   "metadata": {},
   "outputs": [],
   "source": []
  },
  {
   "cell_type": "markdown",
   "metadata": {},
   "source": [
    "### Q2: An array of random nimbers\n",
    "\n",
    "Create an array of random numbers using one of the options in np.random (e.g. a Gaussian, using \"normal\" or a Rayleigh distribution). I've included an example creating an array of random integers between 0 and 10. Print out your array."
   ]
  },
  {
   "cell_type": "code",
   "execution_count": null,
   "metadata": {},
   "outputs": [],
   "source": [
    "MyArray = np.random.randint(low=0,high=10,size=20)\n",
    "print(MyArray)"
   ]
  },
  {
   "cell_type": "code",
   "execution_count": null,
   "metadata": {},
   "outputs": [],
   "source": []
  },
  {
   "cell_type": "markdown",
   "metadata": {},
   "source": [
    "### Q3: A function to plot a random array\n",
    "\n",
    "Fill in the empty function plot_random_hist to create a histogram of random numbers. Both your random number generator and your histogram plotting should be contained inside the function. Use `plt.hist` (https://matplotlib.org/3.1.1/api/_as_gen/matplotlib.pyplot.hist.html) to make the histogram. Then, plot your histogram and add axis labels (e.g. https://matplotlib.org/3.1.1/api/_as_gen/matplotlib.pyplot.xlabel.html)."
   ]
  },
  {
   "cell_type": "code",
   "execution_count": null,
   "metadata": {},
   "outputs": [],
   "source": [
    "def plot_random_hist(N):\n",
    "    print(\"Made a histogram with {0} random numbers!\".format(N))"
   ]
  },
  {
   "cell_type": "code",
   "execution_count": null,
   "metadata": {},
   "outputs": [],
   "source": [
    "plot_random_hist(10)"
   ]
  }
 ],
 "metadata": {
  "anaconda-cloud": {},
  "kernelspec": {
   "display_name": "Python 3 (ipykernel)",
   "language": "python",
   "name": "python3"
  },
  "language_info": {
   "codemirror_mode": {
    "name": "ipython",
    "version": 3
   },
   "file_extension": ".py",
   "mimetype": "text/x-python",
   "name": "python",
   "nbconvert_exporter": "python",
   "pygments_lexer": "ipython3",
   "version": "3.8.12"
  }
 },
 "nbformat": 4,
 "nbformat_minor": 2
}
